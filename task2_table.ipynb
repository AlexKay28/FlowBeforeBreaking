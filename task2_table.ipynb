{
 "cells": [
  {
   "cell_type": "code",
   "execution_count": 2,
   "metadata": {},
   "outputs": [],
   "source": [
    "import numpy as np\n",
    "import pandas as pd"
   ]
  },
  {
   "cell_type": "code",
   "execution_count": 3,
   "metadata": {},
   "outputs": [],
   "source": [
    "import itertools"
   ]
  },
  {
   "cell_type": "code",
   "execution_count": 10,
   "metadata": {},
   "outputs": [
    {
     "name": "stderr",
     "output_type": "stream",
     "text": [
      "/home/alexkay/anaconda3/lib/python3.7/site-packages/ipykernel_launcher.py:42: SettingWithCopyWarning: \n",
      "A value is trying to be set on a copy of a slice from a DataFrame.\n",
      "Try using .loc[row_indexer,col_indexer] = value instead\n",
      "\n",
      "See the caveats in the documentation: https://pandas.pydata.org/pandas-docs/stable/user_guide/indexing.html#returning-a-view-versus-a-copy\n"
     ]
    }
   ],
   "source": [
    "regime = ['НУЭ']*3 + ['МРЗ']*3 + ['НУЭ+МРЗ']*3; regime *= 3; regime += ['НУЭ', 'МРЗ', 'НУЭ+МРЗ']\n",
    "deffect_type = ['Кольцевой дефект'] * 9; deffect_type *= 3; deffect_type += ['Продольный дефект']*3\n",
    "deffect_name = ['208', '210', '227']*3 + ['32', '6', '445']*3 + ['311a', '311b', '349a']*3 + ['273', '325', '426']\n",
    "Dout = np.array([273]*9 + [325]*9 + [426]*9 + [273]*3)*1e-3\n",
    "t = np.array([16]*9 + [19]*9 + [24]*9 + [16]*3)*1e-3\n",
    "T = np.array([285]*9 + [285]*9 + [285]*9 + [285]*3)\n",
    "p = np.array([6.9]*9 + [6.9]*9 + [6.9]*9 + [6.9]*3)*1e6\n",
    "Steel = ['Сталь 20']*9 + ['Сталь 20']*9 + (['Cталь 16ГС'] + ['Сталь 20']*2)*3 + ['Сталь 20']*3\n",
    "\n",
    "Nz_nue = [10, 12, 12] +              [13.835, 18.07, 18.545] + [-3.574, -1.25, -5.13] +   [10]\n",
    "Mx_nue = [6.94, -4.112, 5.841] +     [5.973, -8.157, 1.147] +  [2.289, 12.352, -4.253] +  [6.94]\n",
    "My_nue = [-13.507, -6.554, -4.882] + [3.996, -0.728, -4.866] + [-0.035, -19.076, 3.189] + [-13.507]\n",
    "\n",
    "Nz_mrz = [3.7, 6.6, 3.9] +    [3.6, 2, 1.1] +      [6.2, 4.5, 4.3] +     [3.7]\n",
    "Mx_mrz = [3.19, 2.34, 2.04] + [3.09, 3.67, 3.85] + [1.95, 3.35, 14.79] + [3.19]\n",
    "My_mrz = [5.74, 2.2, 2.78] +  [4.74, 3.64, 4.69] + [3.55, 5.74, 5.75] +  [5.74]\n",
    "\n",
    "Nz, Mx, My = [], [], []\n",
    "for i, j in [(0, 3), (3, 6), (6, 9), (9, 12)]:\n",
    "    Nz += Nz_nue[i:j] + Nz_mrz[i:j] + (abs(np.array(Nz_nue)[i:j]) + abs(np.array(Nz_mrz)[i:j])).tolist()\n",
    "    Mx += Mx_nue[i:j] + Mx_mrz[i:j] + (abs(np.array(Mx_nue)[i:j]) + abs(np.array(Mx_mrz)[i:j])).tolist()\n",
    "    My += My_nue[i:j] + My_mrz[i:j] + (abs(np.array(My_nue)[i:j]) + abs(np.array(My_mrz)[i:j])).tolist()\n",
    "\n",
    "\n",
    "task2_table_ppn = pd.DataFrame({\n",
    "    'problem_type': ['ППН'] * len(regime),\n",
    "    'Regime': regime, \n",
    "    'defect_type': deffect_type,\n",
    "    'steel_type': Steel,\n",
    "    'Название СС': deffect_name,\n",
    "    'Dout': Dout,\n",
    "    't': t,\n",
    "    'T': T,\n",
    "    'p': p, \n",
    "    'Nz': np.array(Nz) * 1e3,\n",
    "    'Mx': np.array(Mx) * 1e3,\n",
    "    'My': np.array(My) * 1e3,\n",
    "    'dva_c_max': np.pi/2 * np.array(Dout) \n",
    "})\n",
    "\n",
    "task2_table_lrn = task2_table_ppn[task2_table_ppn['defect_type']=='Кольцевой дефект']\n",
    "task2_table_lrn['problem_type'] = 'ЛРН'\n",
    "\n",
    "task2_table = pd.concat([task2_table_ppn, task2_table_lrn]).reset_index(drop=True)\n",
    "task2_table = task2_table[~(task2_table['Regime']=='МРЗ')]\n",
    "task2_table.to_csv('task2_table_data.csv', index=False)\n",
    "task3_table = task2_table[(task2_table['Regime']=='НУЭ') & (task2_table['problem_type']=='ППН') & (task2_table['defect_type']!='Продольный дефект')].drop(columns=['Regime', 'problem_type'])\n",
    "task3_table.to_csv('task3_table_data.csv', index=False)"
   ]
  },
  {
   "cell_type": "code",
   "execution_count": null,
   "metadata": {},
   "outputs": [],
   "source": []
  }
 ],
 "metadata": {
  "kernelspec": {
   "display_name": "Python 3",
   "language": "python",
   "name": "python3"
  },
  "language_info": {
   "codemirror_mode": {
    "name": "ipython",
    "version": 3
   },
   "file_extension": ".py",
   "mimetype": "text/x-python",
   "name": "python",
   "nbconvert_exporter": "python",
   "pygments_lexer": "ipython3",
   "version": "3.7.6"
  }
 },
 "nbformat": 4,
 "nbformat_minor": 4
}
